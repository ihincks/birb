{
 "cells": [
  {
   "cell_type": "markdown",
   "metadata": {},
   "source": [
    "# Pathological Noise Model Example"
   ]
  },
  {
   "cell_type": "code",
   "execution_count": 1,
   "metadata": {
    "collapsed": false,
    "deletable": true,
    "editable": true
   },
   "outputs": [],
   "source": [
    "import warnings\n",
    "warnings.filterwarnings(\"ignore\") # bad practice, but pystan has a bunch of annoying warnings\n",
    "\n",
    "%matplotlib inline\n",
    "import matplotlib.pyplot as plt\n",
    "import matplotlib.gridspec as gridspec\n",
    "\n",
    "import pystan as ps\n",
    "import stan_utility\n",
    "import numpy as np\n",
    "import scipy.stats as st\n",
    "import utils as su\n",
    "import seaborn as sbn\n",
    "\n",
    "su.overwrite = True"
   ]
  },
  {
   "cell_type": "markdown",
   "metadata": {
    "deletable": true,
    "editable": true
   },
   "source": [
    "## Data Generation"
   ]
  },
  {
   "cell_type": "markdown",
   "metadata": {},
   "source": [
    "Load in the simulated survival probabilities from Mathematica's output (`survival-distributions.nb`), and use it to simulate some bernoulli trials."
   ]
  },
  {
   "cell_type": "code",
   "execution_count": 2,
   "metadata": {
    "collapsed": false
   },
   "outputs": [],
   "source": [
    "rbd = su.RBSimData('../data/pathological_model_survivals.h5')\n",
    "multimodal_survivals = rbd.survival_data[:,0,:,0]\n",
    "\n",
    "mlist = rbd.sequence_lengths\n",
    "Nm = mlist.shape[0]\n",
    "Nbin = 50\n",
    "Nsamp = 30\n",
    "\n",
    "datavals = np.empty((Nm, Nsamp), dtype='int')\n",
    "for idx_m, m in enumerate(mlist):\n",
    "\n",
    "    p = multimodal_survivals[idx_m,:Nsamp]\n",
    "    datavals[idx_m,:] = np.random.binomial(Nbin,p)\n",
    "      \n",
    "data = dict(\n",
    "    Nm=Nm, Nsamp=Nsamp, Nbin=Nbin, Nc=20,\n",
    "    m=mlist,\n",
    "    Q=datavals,\n",
    "    p_est = .5, A_est = .5, B_est = .5,\n",
    "    p_t = .5, A_t = .5, B_t = .5,\n",
    "    d=2\n",
    ")"
   ]
  },
  {
   "cell_type": "markdown",
   "metadata": {},
   "source": [
    "## Dirichlet Process Stan Model"
   ]
  },
  {
   "cell_type": "markdown",
   "metadata": {},
   "source": [
    "Load the CDPBM stan model. We use a wrapping class that caches these compiled models to disk, so the first time it loads will take the longest."
   ]
  },
  {
   "cell_type": "code",
   "execution_count": null,
   "metadata": {
    "collapsed": false,
    "deletable": true,
    "editable": true
   },
   "outputs": [],
   "source": [
    "model_dp = su.StanModelFactory('./stan/rb-dp.stan').model"
   ]
  },
  {
   "cell_type": "markdown",
   "metadata": {},
   "source": [
    "Now fit the data with this model:"
   ]
  },
  {
   "cell_type": "code",
   "execution_count": null,
   "metadata": {
    "collapsed": false,
    "deletable": true,
    "editable": true
   },
   "outputs": [],
   "source": [
    "fit_dp = model_dp.sampling(data=data, iter=2000, chains=4, control=dict(adapt_delta=0.8))"
   ]
  },
  {
   "cell_type": "markdown",
   "metadata": {},
   "source": [
    "Check that we don't have too many divergent particles:"
   ]
  },
  {
   "cell_type": "code",
   "execution_count": null,
   "metadata": {
    "collapsed": false
   },
   "outputs": [],
   "source": [
    "stan_utility.check_div(fit_dp)"
   ]
  },
  {
   "cell_type": "code",
   "execution_count": null,
   "metadata": {
    "collapsed": true
   },
   "outputs": [],
   "source": [
    "def survival_dist_plot(fit, m=100, surv_color='b', surv_hatch=''):\n",
    "    data = fit.data\n",
    "    idx_m = int(np.arange(data['Nm'])[data['m'] == m])\n",
    "\n",
    "    skip = 10\n",
    "    w = fit.extract()['w'][::skip,idx_m,np.newaxis,:]\n",
    "    nu = fit.extract()['nu'][::skip,idx_m,np.newaxis,:]\n",
    "    r = fit.extract()['r'][::skip,idx_m,np.newaxis,:]\n",
    "    a = 1 / (r - r * nu) - nu\n",
    "    b = 1 / (r * nu) - 1 + nu\n",
    "\n",
    "    x_plot = np.linspace(0,1,200)\n",
    "    post_pmfs = np.sum(w * st.beta.pdf(np.atleast_3d(x_plot), a, b), axis=2)\n",
    "    post_pmf_low, post_pmf_high = np.percentile(post_pmfs, [2.5, 97.5], axis=0)\n",
    "    plt.fill_between(x_plot, post_pmf_low, post_pmf_high, color='gray', alpha=0.5, zorder=50, label='%95 credible region')\n",
    "    plt.plot(x_plot, post_pmfs.mean(axis=0), lw=2, c='k', label='Posterior expected \\nsurvival distribution')\n",
    "\n",
    "    survivals = rbd.survival_data[idx_m,0,:,0]\n",
    "    plt.hist(\n",
    "        data['Q'][idx_m,:] / float(data['Nbin']), \n",
    "        normed=True, color='violet', \n",
    "        bins=50, range=(0,1), \n",
    "        alpha=0.5, \n",
    "        label='Normalized Data, Q/N'\n",
    "    )\n",
    "    plt.hist(\n",
    "        survivals, \n",
    "        normed=True, \n",
    "        bins=50, \n",
    "        range=(0,1), \n",
    "        alpha=0.8, \n",
    "        color=surv_color, hatch=surv_hatch, \n",
    "        linewidth=0, \n",
    "        edgecolor=su.lighten_color(surv_color,0.7),\n",
    "        label='Survival Distribution'\n",
    "    )\n",
    "\n",
    "\n",
    "    plt.legend()\n",
    "    handles, labels = plt.gca().get_legend_handles_labels()\n",
    "    order = [0,3,1,2]\n",
    "    plt.ylim([0, 1.0 * plt.gca().get_ylim()[1]])\n",
    "    plt.legend([handles[idx] for idx in order],[labels[idx] for idx in order],loc=1)\n",
    "    plt.yticks([])\n",
    "    plt.xlabel('Survival Probability')\n",
    "    \n",
    "    label_loc=[0.05,0.9]\n",
    "    plt.gca().text(label_loc[0], label_loc[1], 'M={}'.format(m),\n",
    "        transform = plt.gca().transAxes, va='center', ha='left'\n",
    "    )"
   ]
  },
  {
   "cell_type": "code",
   "execution_count": null,
   "metadata": {
    "collapsed": false
   },
   "outputs": [],
   "source": [
    "mvals = [1,20,100]\n",
    "n_m = len(mvals)\n",
    "\n",
    "\n",
    "fig = plt.figure(figsize=(6,1.9*(n_m+1)))\n",
    "gs1 = gridspec.GridSpec(1,3, top=1, bottom=1-0.8/(n_m+1), right=1, left=0)\n",
    "gs2 = gridspec.GridSpec(n_m,1, top=1-1.1/(n_m+1), bottom=0, right=1, left=0)\n",
    "\n",
    "\n",
    "params = ['p', 'A', 'B']\n",
    "for idx_param, param in enumerate(params):\n",
    "    plt.sca(plt.subplot(gs1[0,idx_param]))\n",
    "    sbn.kdeplot(fit_dp.extract()[param][::10], shade=True)\n",
    "    plt.yticks([])\n",
    "    plt.xlim([-0.1,1.1])\n",
    "    plt.xlabel(param)\n",
    "    plt.title('$\\operatorname{{Pr}}({{{}}}|Q)$'.format(param))\n",
    "\n",
    "for idx_m, m in enumerate(mvals):\n",
    "    plt.sca(plt.subplot(gs2[idx_m,0]))\n",
    "    survival_dist_plot(fit_dp, m=m, surv_hatch='+++')\n",
    "    if idx_m != 0:\n",
    "        plt.legend([])\n",
    "    if idx_m < n_m-1:\n",
    "        plt.gca().set_xticklabels([])\n",
    "        plt.xlabel('')\n",
    "        \n",
    "gs1.tight_layout(fig, rect=(0,1-1./(n_m+1),1,1))\n",
    "gs2.tight_layout(fig, rect=(0,0,1,1-1./(n_m+1)))\n",
    "        \n",
    "su.export_figure(fig, 'pathological-survival-distributions')"
   ]
  }
 ],
 "metadata": {
  "anaconda-cloud": {},
  "kernelspec": {
   "display_name": "Python [conda env:birb-code]",
   "language": "python",
   "name": "conda-env-birb-code-py"
  },
  "language_info": {
   "codemirror_mode": {
    "name": "ipython",
    "version": 2
   },
   "file_extension": ".py",
   "mimetype": "text/x-python",
   "name": "python",
   "nbconvert_exporter": "python",
   "pygments_lexer": "ipython2",
   "version": "2.7.14"
  }
 },
 "nbformat": 4,
 "nbformat_minor": 2
}
